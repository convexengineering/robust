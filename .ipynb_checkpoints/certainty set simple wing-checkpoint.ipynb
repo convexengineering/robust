{
 "cells": [
  {
   "cell_type": "code",
   "execution_count": 2,
   "metadata": {
    "collapsed": false
   },
   "outputs": [
    {
     "name": "stdout",
     "output_type": "stream",
     "text": [
      "Using solver 'mosek'\n",
      "Solving for 10 variables.\n",
      "Solving took 0.0271 seconds.\n",
      "\n",
      "Cost\n",
      "----\n",
      " 405.4 [N] \n",
      "\n",
      "Free Variables\n",
      "--------------\n",
      "  A : 7.856             aspect ratio\n",
      "C_D : 0.02062           Drag coefficient of wing\n",
      "C_L : 0.4738            Lift coefficent of wing\n",
      "C_f : 0.003468          skin friction coefficient\n",
      "  D : 405.4      [N]    total drag force\n",
      " Re : 4.421e+06         Reynold's number\n",
      "  S : 15.15      [m**2] total wing area\n",
      "  V : 45.94      [m/s]  cruising speed\n",
      "  W : 9317       [N]    total aircraft weight\n",
      "W_w : 3067       [N]    wing weight\n",
      "\n",
      "Most Sensitive\n",
      "--------------\n",
      "                W_0 : +0.99 aircraft weight excluding wing\n",
      "                  e : -0.48 Oswald efficiency factor\n",
      "(\\frac{S}{S_{wet}}) : +0.41 wetted area ratio\n",
      "                  k : +0.41 form factor\n",
      "            V_{min} : -0.31 takeoff speed\n",
      "\n",
      "Beginning signomial solve.\n",
      "Solving took 7 GP solves and 0.544 seconds.\n",
      "\n",
      "Cost\n",
      "----\n",
      " 1007 [N] \n",
      "\n",
      "Free Variables\n",
      "--------------\n",
      "    A : 3.881             aspect ratio\n",
      "  C_D : 0.01639           Drag coefficient of wing\n",
      "  C_L : 0.2872            Lift coefficent of wing\n",
      "  C_f : 0.002908          skin friction coefficient\n",
      "    D : 1007       [N]    total drag force\n",
      "   Re : 1.067e+07         Reynold's number\n",
      "    S : 49.85      [m**2] total wing area\n",
      "    V : 44.77      [m/s]  cruising speed\n",
      "    W : 1.765e+04  [N]    total aircraft weight\n",
      "  W_w : 7648       [N]    wing weight\n",
      "s^0_4 : 6.666e-05\n",
      "s^0_5 : 0.007573\n",
      "s^1_4 : 0.0002537\n",
      "s^1_5 : 0.007573\n",
      "s^2_4 : 0.00118\n",
      "s^2_5 : 0.06798\n",
      "s^3_4 : 0.002398\n",
      "s^3_5 : 0.007573\n",
      "s^4_4 : 0.000337\n",
      "s^4_5 : 0.03029\n",
      "  s_4 : 0.004235\n",
      "  s_5 : 0.121\n",
      "t_7^0 : 0.5666\n",
      "\n",
      "Most Sensitive\n",
      "--------------\n",
      "      W_0 : +1    aircraft weight excluding wing\n",
      "  V_{min} : -1    takeoff speed\n",
      "     \\rho : -0.55 density of air\n",
      "C_{L,max} : -0.5  max CL with flaps down\n",
      "        e : -0.48 Oswald efficiency factor\n",
      "\n"
     ]
    }
   ],
   "source": [
    "import GPModels as GPM\n",
    "import RobustGP as RGP\n",
    "\n",
    "model = GPM.simpleWing()\n",
    "robustModel = RGP.robustModelEllipticalUncertainty(model, linearizeTwoTerm=False,\n",
    "                                                   enableSP=True,\n",
    "                                                   numberOfRegressionPoints=2)[0]\n",
    "print model.solve().summary()\n",
    "print robustModel.localsolve().summary()"
   ]
  },
  {
   "cell_type": "code",
   "execution_count": 4,
   "metadata": {
    "collapsed": false
   },
   "outputs": [
    {
     "data": {
      "text/latex": [
       "$$\\begin{array}{ll} \\text{}\n",
       "\\text{minimize}\n",
       "    & D \\\\\n",
       "\\text{subject to}\n",
       "    & C_D \\geq 0.3183\\frac{C_L^{2} toz}{A e} + \\frac{(CDA0) toz}{S} + \\frac{(\\frac{S}{S_{wet}}) C_f k}{toz} \\\\\n",
       "    & W_w \\geq S W_{W_{coeff2}} + \\frac{A^{1.5} N_{ult} S^{0.5} W^{0.5} W_0^{0.5} W_{W_{coeff1}}}{\\tau} \\\\\n",
       "    & D \\geq 0.5C_D S V^{2} \\rho \\\\\n",
       "    & Re \\leq \\frac{S^{0.5} V \\rho}{A^{0.5} \\mu} \\\\\n",
       "    & C_f \\geq \\frac{0.074}{Re^{0.2}} \\\\\n",
       "    & W \\leq 0.5C_L S V^{2} \\rho \\\\\n",
       "    & W \\leq 0.5C_{L,max} S V_{min}^{2} \\rho \\\\\n",
       "    & W \\geq W_0 + W_w \\\\\n",
       "\\end{array}$$"
      ],
      "text/plain": [
       "gpkit.Model(\n",
       "  # minimize\n",
       "        D\n",
       "  # subject to\n",
       "        C_D >= (CDA0)*S**-1*toz + (\\frac{S}{S_{wet}})*C_f*k*toz**-1 + 0.318*A**-1*C_L**2*e**-1*toz\n",
       "        W_w >= A**1.5*N_{ult}*S**0.5*W**0.5*W_0**0.5*W_{W_{coeff1}}*\\tau**-1 + S*W_{W_{coeff2}}\n",
       "        D >= 0.5*C_D*S*V**2*\\rho\n",
       "        Re <= A**-0.5*S**0.5*V*\\mu**-1*\\rho\n",
       "        C_f >= 0.074*Re**-0.2\n",
       "        W <= 0.5*C_L*S*V**2*\\rho\n",
       "        W <= 0.5*C_{L,max}*S*V_{min}**2*\\rho\n",
       "        W >= W_0 + W_w)"
      ]
     },
     "execution_count": 4,
     "metadata": {},
     "output_type": "execute_result"
    }
   ],
   "source": [
    "model"
   ]
  },
  {
   "cell_type": "code",
   "execution_count": 5,
   "metadata": {
    "collapsed": false
   },
   "outputs": [
    {
     "data": {
      "text/plain": [
       "(4.585283989563893, <Quantity(1007.00561011, 'newton')>)"
      ]
     },
     "execution_count": 5,
     "metadata": {},
     "output_type": "execute_result"
    }
   ],
   "source": [
    "1/(0.467*0.467), robustModel.solution[\"cost\"]"
   ]
  },
  {
   "cell_type": "code",
   "execution_count": 6,
   "metadata": {
    "collapsed": false
   },
   "outputs": [
    {
     "name": "stdout",
     "output_type": "stream",
     "text": [
      "Populating the interactive namespace from numpy and matplotlib\n"
     ]
    }
   ],
   "source": [
    "%pylab inline"
   ]
  },
  {
   "cell_type": "code",
   "execution_count": 15,
   "metadata": {
    "collapsed": false
   },
   "outputs": [
    {
     "data": {
      "text/plain": [
       "[<matplotlib.lines.Line2D at 0x7efd32ea4450>]"
      ]
     },
     "execution_count": 15,
     "metadata": {},
     "output_type": "execute_result"
    },
    {
     "data": {
      "image/png": "[encoded data removed]",
      "text/plain": [
       "<matplotlib.figure.Figure at 0x7efd32f39490>"
      ]
     },
     "metadata": {},
     "output_type": "display_data"
    }
   ],
   "source": [
    "from gpkit import Model, Variable\n",
    "\n",
    "figure(figsize=(6,6))\n",
    "for rad in linspace(0, 2*pi, 12):\n",
    "    a_ = 1 * 15**cos(rad)\n",
    "    b_ = 1.17 * 15**sin(rad)\n",
    "    s = Variable(\"s\")\n",
    "    astar = Variable(\"a^*\", a_)\n",
    "    bstar = Variable(\"b^*\", b_)\n",
    "    a = model[\"toz\"]\n",
    "    b = model[\"k\"]\n",
    "    feasmodel = Model(s, [model, robustModel.cost <= robustModel.solution[\"cost\"],\n",
    "                          astar/s <= a, a <= s*astar, bstar/s <= b, b <= s*bstar, s >= 1])\n",
    "    del feasmodel.substitutions[\"toz\"]\n",
    "    del feasmodel.substitutions[\"k\"]\n",
    "    feasmodel.solve(verbosity=0)\n",
    "    loglog([a_, feasmodel.solution(a)], [b_, feasmodel.solution(b)], \"k+-\", alpha=0.25)\n",
    "    xlabel(\"toz\")\n",
    "    ylabel(\"k\")\n",
    "    loglog([robustModel.substitutions[\"toz\"]],\n",
    "           [robustModel.substitutions[\"k\"]], \"k+\")\n",
    "    \n",
    "th = linspace(0, 2*pi, 100)\n",
    "loglog(1.15**sin(th), 1.17*1.1111**cos(th))\n",
    "# xlim([0.3, 3])\n",
    "# ylim([0.3, 3])"
   ]
  },
  {
   "cell_type": "code",
   "execution_count": 23,
   "metadata": {
    "collapsed": false
   },
   "outputs": [
    {
     "data": {
      "text/latex": [
       "$$\\begin{array}{ll} \\text{}\n",
       "\\text{minimize}\n",
       "    & s \\\\\n",
       "\\text{subject to}\n",
       "    & a x + b y \\leq 1 \\\\\n",
       "    & \\frac{1}{x y} \\leq 4.586 \\\\\n",
       "    & a \\geq \\frac{a^*}{s} \\\\\n",
       "    & a \\leq a^* s \\\\\n",
       "    & b \\geq \\frac{b^*}{s} \\\\\n",
       "    & b \\leq b^* s \\\\\n",
       "    & s \\geq 1 \\\\\n",
       "\\end{array}$$"
      ],
      "text/plain": [
       "gpkit.Model(\n",
       "  # minimize\n",
       "        s\n",
       "  # subject to\n",
       "        a*x + b*y <= 1\n",
       "        x**-1*y**-1 <= 4.59\n",
       "        a >= a^**s**-1\n",
       "        a <= a^**s\n",
       "        b >= b^**s**-1\n",
       "        b <= b^**s\n",
       "        s >= 1)"
      ]
     },
     "execution_count": 23,
     "metadata": {},
     "output_type": "execute_result"
    }
   ],
   "source": [
    "feasmodel"
   ]
  }
 ],
 "metadata": {
  "kernelspec": {
   "display_name": "Python 2",
   "language": "python",
   "name": "python2"
  },
  "language_info": {
   "codemirror_mode": {
    "name": "ipython",
    "version": 2
   },
   "file_extension": ".py",
   "mimetype": "text/x-python",
   "name": "python",
   "nbconvert_exporter": "python",
   "pygments_lexer": "ipython2",
   "version": "2.7.12"
  }
 },
 "nbformat": 4,
 "nbformat_minor": 2
}
