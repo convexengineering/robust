{
 "cells": [
  {
   "cell_type": "code",
   "execution_count": 2,
   "metadata": {
    "collapsed": false
   },
   "outputs": [
    {
     "name": "stdout",
     "output_type": "stream",
     "text": [
      "Using solver 'mosek'\n",
      "Solving for 2 variables.\n",
      "Solving took 0.0154 seconds.\n",
      "\n",
      "Cost\n",
      "----\n",
      " 4\n",
      "\n",
      "Free Variables\n",
      "--------------\n",
      "x : 0.5\n",
      "y : 0.5\n",
      "\n",
      "Sensitivities\n",
      "-------------\n",
      "a : +1\n",
      "b : +1\n",
      "\n",
      "Using solver 'mosek'\n",
      "Solving for 5 variables.\n",
      "Solving took 0.0124 seconds.\n",
      "\n",
      "Cost\n",
      "----\n",
      " 4.586\n",
      "\n",
      "Free Variables\n",
      "--------------\n",
      "s^0_0 : 0.002181\n",
      "s^1_0 : 0.002181\n",
      "  s_0 : 0.004361\n",
      "    x : 0.467\n",
      "    y : 0.467\n",
      "\n",
      "Sensitivities\n",
      "-------------\n",
      "a : +1\n",
      "b : +1\n",
      "\n"
     ]
    }
   ],
   "source": [
    "import GPModels as GPM\n",
    "import RobustGP as RGP\n",
    "\n",
    "model = GPM.testModel()\n",
    "robustModel = RGP.robustModelEllipticalUncertainty(model, linearizeTwoTerm=False,\n",
    "                                                   enableSP=True,\n",
    "                                                   numberOfRegressionPoints=2)[0]\n",
    "print model.solve().summary()\n",
    "print robustModel.solve().summary()"
   ]
  },
  {
   "cell_type": "code",
   "execution_count": 3,
   "metadata": {
    "collapsed": false
   },
   "outputs": [
    {
     "data": {
      "text/latex": [
       "$$\\begin{array}{ll} \\text{}\n",
       "\\text{minimize}\n",
       "    & \\frac{1}{x y} \\\\\n",
       "\\text{subject to}\n",
       "    & a x + b y \\leq 1 \\\\\n",
       "\\end{array}$$"
      ],
      "text/plain": [
       "gpkit.Model(\n",
       "  # minimize\n",
       "        x**-1*y**-1\n",
       "  # subject to\n",
       "        a*x + b*y <= 1)"
      ]
     },
     "execution_count": 3,
     "metadata": {},
     "output_type": "execute_result"
    }
   ],
   "source": [
    "model"
   ]
  },
  {
   "cell_type": "code",
   "execution_count": 4,
   "metadata": {
    "collapsed": false
   },
   "outputs": [
    {
     "data": {
      "text/plain": [
       "(4.585283989563893, 4.5856854249689958)"
      ]
     },
     "execution_count": 4,
     "metadata": {},
     "output_type": "execute_result"
    }
   ],
   "source": [
    "1/(0.467*0.467), robustModel.solution[\"cost\"]"
   ]
  },
  {
   "cell_type": "code",
   "execution_count": 5,
   "metadata": {
    "collapsed": false
   },
   "outputs": [
    {
     "name": "stdout",
     "output_type": "stream",
     "text": [
      "Populating the interactive namespace from numpy and matplotlib\n"
     ]
    }
   ],
   "source": [
    "%pylab inline"
   ]
  },
  {
   "cell_type": "code",
   "execution_count": 8,
   "metadata": {
    "collapsed": false
   },
   "outputs": [
    {
     "data": {
      "text/plain": [
       "(0.5, 2)"
      ]
     },
     "execution_count": 8,
     "metadata": {},
     "output_type": "execute_result"
    },
    {
     "data": {
      "image/png": "[encoded data removed]",
      "text/plain": [
       "<matplotlib.figure.Figure at 0x7f4fee64ca90>"
      ]
     },
     "metadata": {},
     "output_type": "display_data"
    }
   ],
   "source": [
    "from gpkit import Model, Variable\n",
    "\n",
    "figure(figsize=(6,6))\n",
    "for rad in linspace(0, 2*pi, 100):\n",
    "    a_ = 2**cos(rad)\n",
    "    b_ = 2**sin(rad)\n",
    "    s = Variable(\"s\")\n",
    "    astar = Variable(\"a^*\", a_)\n",
    "    bstar = Variable(\"b^*\", b_)\n",
    "    a = model[\"a\"]\n",
    "    b = model[\"b\"]\n",
    "    feasmodel = Model(s, [model, robustModel.cost <= robustModel.solution[\"cost\"],\n",
    "                          astar/s <= a, a <= s*astar, bstar/s <= b, b <= s*bstar, s >= 1])\n",
    "    del feasmodel.substitutions[\"a\"]\n",
    "    del feasmodel.substitutions[\"b\"]\n",
    "    feasmodel.solve(verbosity=0)\n",
    "    loglog([a_, feasmodel.solution(a)], [b_, feasmodel.solution(b)], \"k+-\", alpha=0.25)\n",
    "    xlabel(\"a\")\n",
    "    ylabel(\"b\")\n",
    "    loglog([robustModel.substitutions[\"a\"]], [robustModel.substitutions[\"b\"]], \"k+\")\n",
    "    \n",
    "th = linspace(0, 2*pi, 100)\n",
    "loglog(1.1**sin(th), 1.1**cos(th))\n",
    "xlim([0.5, 2])\n",
    "ylim([0.5, 2])"
   ]
  },
  {
   "cell_type": "code",
   "execution_count": 23,
   "metadata": {
    "collapsed": false
   },
   "outputs": [
    {
     "data": {
      "text/latex": [
       "$$\\begin{array}{ll} \\text{}\n",
       "\\text{minimize}\n",
       "    & s \\\\\n",
       "\\text{subject to}\n",
       "    & a x + b y \\leq 1 \\\\\n",
       "    & \\frac{1}{x y} \\leq 4.586 \\\\\n",
       "    & a \\geq \\frac{a^*}{s} \\\\\n",
       "    & a \\leq a^* s \\\\\n",
       "    & b \\geq \\frac{b^*}{s} \\\\\n",
       "    & b \\leq b^* s \\\\\n",
       "    & s \\geq 1 \\\\\n",
       "\\end{array}$$"
      ],
      "text/plain": [
       "gpkit.Model(\n",
       "  # minimize\n",
       "        s\n",
       "  # subject to\n",
       "        a*x + b*y <= 1\n",
       "        x**-1*y**-1 <= 4.59\n",
       "        a >= a^**s**-1\n",
       "        a <= a^**s\n",
       "        b >= b^**s**-1\n",
       "        b <= b^**s\n",
       "        s >= 1)"
      ]
     },
     "execution_count": 23,
     "metadata": {},
     "output_type": "execute_result"
    }
   ],
   "source": [
    "feasmodel"
   ]
  }
 ],
 "metadata": {
  "kernelspec": {
   "display_name": "Python 2",
   "language": "python",
   "name": "python2"
  },
  "language_info": {
   "codemirror_mode": {
    "name": "ipython",
    "version": 2
   },
   "file_extension": ".py",
   "mimetype": "text/x-python",
   "name": "python",
   "nbconvert_exporter": "python",
   "pygments_lexer": "ipython2",
   "version": "2.7.12"
  }
 },
 "nbformat": 4,
 "nbformat_minor": 2
}
